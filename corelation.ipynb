{
 "cells": [
  {
   "cell_type": "code",
   "execution_count": 1,
   "id": "cbb38bd7-5b3e-492c-934f-24ea9656f1f1",
   "metadata": {},
   "outputs": [],
   "source": [
    "import cv2\n",
    "import numpy as np"
   ]
  },
  {
   "cell_type": "code",
   "execution_count": 7,
   "id": "a592b0a8-a848-49b7-9826-bfc894a44bd1",
   "metadata": {},
   "outputs": [],
   "source": [
    "import cv2\n",
    "import numpy as np\n",
    "\n",
    "# Video load\n",
    "cap = cv2.VideoCapture(r\"C:\\Users\\ACER\\Desktop\\OPEN_CV\\mixkit-woman-doing-warm-up-exercises-583-hd-ready.mp4\")\n",
    "\n",
    "# Read first frame\n",
    "ret, first_frame = cap.read()\n",
    "# ret is a boolean indicating if the frame was successfully read\n",
    "\n",
    "if not ret:\n",
    "    print(\"Failed to read the first frame\")\n",
    "    cap.release()\n",
    "    exit()\n",
    "\n",
    "# Select ROI (Region of Interest) for the object to be tracked\n",
    "roi = cv2.selectROI(first_frame, False)\n",
    "x, y, w, h = roi\n",
    "template = first_frame[y:y+h, x:x+w]\n",
    "\n",
    "# Define the method for template matching\n",
    "method = cv2.TM_SQDIFF_NORMED  # Sum of Squared Differences (Normalized)\n",
    "\n",
    "while cap.isOpened():\n",
    "    ret, frame = cap.read()\n",
    "    if not ret:\n",
    "        break\n",
    "\n",
    "    # Perform template matching\n",
    "    result = cv2.matchTemplate(frame, template, method)\n",
    "    min_val, max_val, min_loc, max_loc = cv2.minMaxLoc(result)\n",
    "\n",
    "    # Update the object location\n",
    "    top_left = min_loc\n",
    "    bottom_right = (top_left[0] + w, top_left[1] + h)\n",
    "\n",
    "    # Draw a rectangle around the tracked object\n",
    "    cv2.rectangle(frame, top_left, bottom_right, (255, 0, 0), 2)\n",
    "\n",
    "    # Display the result\n",
    "    cv2.imshow('Tracking', frame)\n",
    "\n",
    "    # Break the loop if 'q' is pressed\n",
    "    if cv2.waitKey(100) & 0xFF == ord('q'):\n",
    "        break\n",
    "\n",
    "cap.release()\n",
    "cv2.destroyAllWindows()\n"
   ]
  },
  {
   "cell_type": "code",
   "execution_count": null,
   "id": "f84188c4-6a36-4ad5-9cf5-0243d4b455a6",
   "metadata": {},
   "outputs": [],
   "source": []
  }
 ],
 "metadata": {
  "kernelspec": {
   "display_name": "Python 3 (ipykernel)",
   "language": "python",
   "name": "python3"
  },
  "language_info": {
   "codemirror_mode": {
    "name": "ipython",
    "version": 3
   },
   "file_extension": ".py",
   "mimetype": "text/x-python",
   "name": "python",
   "nbconvert_exporter": "python",
   "pygments_lexer": "ipython3",
   "version": "3.11.7"
  },
  "widgets": {
   "application/vnd.jupyter.widget-state+json": {
    "state": {},
    "version_major": 2,
    "version_minor": 0
   }
  }
 },
 "nbformat": 4,
 "nbformat_minor": 5
}
