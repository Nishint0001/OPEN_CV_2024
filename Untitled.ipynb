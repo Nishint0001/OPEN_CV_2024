{
 "cells": [
  {
   "cell_type": "code",
   "execution_count": 9,
   "id": "3a6f4440-dc16-4f9e-8f54-d570d61c1ddd",
   "metadata": {},
   "outputs": [
    {
     "data": {
      "text/plain": [
       "1"
      ]
     },
     "execution_count": 9,
     "metadata": {},
     "output_type": "execute_result"
    }
   ],
   "source": [
    "1"
   ]
  },
  {
   "cell_type": "code",
   "execution_count": 10,
   "id": "3f09bbd4-4009-4ce0-bba9-13471f9e5129",
   "metadata": {},
   "outputs": [],
   "source": [
    "import cv2"
   ]
  },
  {
   "cell_type": "code",
   "execution_count": 13,
   "id": "09a9d3ce-b124-4777-872d-9e205b2710f9",
   "metadata": {},
   "outputs": [],
   "source": [
    "import cv2\n",
    "\n",
    "# Load the image\n",
    "old_img = cv2.imread(\"C:\\\\Users\\\\ACER\\\\Desktop\\\\OPEN_CV\\\\ronaldo.jpeg\")\n",
    "\n",
    "# Resize the image\n",
    "old_img = cv2.resize(old_img, (500, 600))\n",
    "\n",
    "# Draw a line on the image\n",
    "new_img = cv2.line(img=old_img, pt1=(130, 60), pt2=(400, 60), color=(0, 255, 0), thickness=4)\n",
    "\n",
    "# Display the image\n",
    "cv2.imshow(\"kk\", new_img)\n",
    "cv2.waitKey(0)  # Wait for any key press\n",
    "cv2.destroyAllWindows()  # Close all OpenCV windows\n"
   ]
  },
  {
   "cell_type": "code",
   "execution_count": 17,
   "id": "4fc5ad39-33d2-49b7-a4e8-da6f0641eb41",
   "metadata": {},
   "outputs": [],
   "source": [
    "import cv2\n",
    "\n",
    "# Open the video file\n",
    "org_v = cv2.VideoCapture(r\"C:\\Users\\ACER\\Desktop\\OPEN_CV\\WIN_20240629_13_34_03_Pro.mp4\")\n",
    "\n",
    "while org_v.isOpened():\n",
    "    ret, frame = org_v.read()\n",
    "    if ret:\n",
    "        frame = cv2.resize(frame, (500, 500))\n",
    "        \n",
    "        # Display the frame (use cv2_imshow for Google Colab)\n",
    "        cv2.imshow(\"Video Frame\", frame)\n",
    "\n",
    "        # Add a small delay (~30 milliseconds)\n",
    "        if cv2.waitKey(30) & 0xFF == ord('q'):  # Press 'q' to quit\n",
    "            break\n",
    "    else:\n",
    "        break\n",
    "\n",
    "# Release the video capture object\n",
    "org_v.release()\n",
    "\n",
    "# Close all OpenCV windows\n",
    "cv2.destroyAllWindows()\n"
   ]
  },
  {
   "cell_type": "code",
   "execution_count": 23,
   "id": "81f131bb-4cdc-41dd-9fcb-d246874526a1",
   "metadata": {},
   "outputs": [],
   "source": [
    "\n",
    "#FLIPPLING THE VIDEO\n",
    "\n",
    "cap=cv2.VideoCapture(0)\n",
    "\n",
    "while cap.isOpened():\n",
    "    r,frame=cap.read()\n",
    "    if r==True:\n",
    "        frame=cv2.flip(frame,1)\n",
    "        cv2.imshow(\"Nishint\",frame)\n",
    "        if cv2.waitKey(25) & 0xff==ord(\"p\"):\n",
    "            break\n",
    "    else:\n",
    "        break\n",
    "\n",
    "cap.release()\n",
    "cv2.destroyAllWindows()"
   ]
  },
  {
   "cell_type": "code",
   "execution_count": 26,
   "id": "c4a76c5e-615d-48b5-8ff0-bb8be6c06932",
   "metadata": {},
   "outputs": [],
   "source": [
    "\n",
    "#RECORDING AND SAVING THE VIDEO\n",
    "\n",
    "cap=cv2.VideoCapture(0)\n",
    "f=cv2.VideoWriter_fourcc(*\"XVID\")\n",
    "out=cv2.VideoWriter(\"demo.mp4\",f,40.0,(640,480))\n",
    "\n",
    "while cap.isOpened():\n",
    "    r,frame=cap.read()\n",
    "    if r==True:\n",
    "        frame=cv2.flip(frame,1)\n",
    "        out.write(frame)\n",
    "        cv2.imshow(\"Nishint\",frame)\n",
    "        if cv2.waitKey(1) & 0xff==ord(\"p\"):\n",
    "            break\n",
    "    else:\n",
    "        break\n",
    "\n",
    "cap.release()\n",
    "out.release()\n",
    "cv2.destroyAllWindows()"
   ]
  },
  {
   "cell_type": "code",
   "execution_count": 4,
   "id": "ebb6a5e9-7556-49d2-9890-d8ce4ab1637c",
   "metadata": {},
   "outputs": [],
   "source": [
    "\n",
    "#RECORDING AND SAVING THE VIDEO\n",
    "#Converting into gray scale\n",
    "import cv2\n",
    "cap=cv2.VideoCapture(0)\n",
    "f=cv2.VideoWriter_fourcc(*\"XVID\")\n",
    "out=cv2.VideoWriter(\"demo.mp4\",f,40.0,(640,480),0)\n",
    "\n",
    "while cap.isOpened():\n",
    "    r,frame=cap.read()\n",
    "    if r==True:\n",
    "        frame=cv2.cvtColor(frame,cv2.COLOR_BGR2GRAY)\n",
    "        frame=cv2.flip(frame,1)\n",
    "        out.write(frame)\n",
    "        cv2.imshow(\"Nishint\",frame)\n",
    "        if cv2.waitKey(1) & 0xff==ord(\"p\"):\n",
    "            break\n",
    "    else:\n",
    "        break\n",
    "\n",
    "cap.release()\n",
    "out.release()\n",
    "cv2.destroyAllWindows()"
   ]
  },
  {
   "cell_type": "code",
   "execution_count": 10,
   "id": "d790034a-cb35-451e-9f58-d81f0b508279",
   "metadata": {},
   "outputs": [],
   "source": [
    "#HOW TO CREATE A BLACK BLANK IMAGE\n",
    "import cv2\n",
    "import numpy as np\n",
    "\n",
    "\n",
    "\n",
    "img=np.zeros((500,500,3),np.uint8)*255\n",
    "\n",
    "cv2.imshow(\"blank\",img)\n",
    "cv2.waitKey(0)\n",
    "cv2.destroyAllWindows()\n",
    "\n"
   ]
  },
  {
   "cell_type": "code",
   "execution_count": 12,
   "id": "f1183f9c-4279-4bdb-ad47-b5056b7c31c2",
   "metadata": {},
   "outputs": [],
   "source": []
  },
  {
   "cell_type": "code",
   "execution_count": 22,
   "id": "43876e04-530c-4e42-9381-de25b42421c8",
   "metadata": {},
   "outputs": [],
   "source": [
    "\n",
    "def  nishint(x):\n",
    "    pass\n",
    "\n",
    "#HOW TO CREATE A BLACK BLANK IMAGE\n",
    "import cv2\n",
    "import numpy as np\n",
    "\n",
    "\n",
    "#how to make tracbar color\n",
    "img=np.zeros((500,500,3),np.uint8)*255\n",
    "cv2.namedWindow(\"color\")\n",
    "cv2.createTrackbar(\"R\",\"color\",0,255,nishint)\n",
    "cv2.createTrackbar(\"G\",\"color\",0,255,nishint)\n",
    "cv2.createTrackbar(\"B\",\"color\",0,255,nishint)\n",
    "\n",
    "while True:\n",
    "    cv2.imshow(\"color\",img)\n",
    "    if cv2.waitKey(1) & 0xff==ord(\"p\"):\n",
    "        break\n",
    "    r=cv2.getTrackbarPos(\"R\",\"color\")\n",
    "    g=cv2.getTrackbarPos(\"G\",\"color\")\n",
    "    b=cv2.getTrackbarPos(\"B\",\"color\")\n",
    "\n",
    "    img[:]=[b,g,r]\n",
    "    \n",
    "    \n",
    "\n",
    "\n",
    "\n",
    "cv2.destroyAllWindows()\n",
    "\n"
   ]
  },
  {
   "cell_type": "code",
   "execution_count": null,
   "id": "a815d2f3-3946-4250-9817-fbafdc2d75dd",
   "metadata": {},
   "outputs": [],
   "source": [
    "import cv2\n",
    "import numpy as np\n",
    "\n",
    "cap=cv2.VideoCapture(0)\n",
    "\n",
    "def nishint(x):\n",
    "    pass\n",
    "cv2.namedWindow(\"demo\")\n",
    "cv2.createTrackbar(\"lb\",\"demo\",0,255,nishint)\n",
    "cv2.createTrackbar(\"lg\",\"demo\",0,255,nishint)\n",
    "cv2.createTrackbar(\"lr\",\"demo\",0,255,nishint)\n",
    "\n",
    "cv2.createTrackbar(\"ub\",\"demo\",255,255,nishint)\n",
    "cv2.createTrackbar(\"ub\",\"demo\",255,255,nishint)\n",
    "cv2.createTrackbar(\"ur\",\"demo\",255,255,nishint)\n",
    "\n",
    "while cap.isOpened():\n",
    "    r,frame=cap.read()\n",
    "\n",
    "    if r==True:\n",
    "       img=cv2.resize(frame,(400,300))\n",
    "       hsv_img=cv2.cvtColor(img,cv2.COLOR_BGR2HSV)\n",
    "\n",
    "       Lb=cv2.getTrackbarPos(\"lb\",\"demo\")\n",
    "       Lg=cv2.getTrackbarPos(\"lg\",\"demo\")\n",
    "       Lr=cv2.getTrackbarPos(\"lr\",\"demo\")\n",
    "\n",
    "       Ub=cv2.getTrackbarPos(\"lb\",\"demo\")\n",
    "       Ug=cv2.getTrackbarPos(\"lg\",\"demo\")\n",
    "       Ur=cv2.getTrackbarPos(\"lr\",\"demo\")\n",
    "\n",
    "       lo=np.array([Lb,Lg,Lr])\n",
    "       up=np.array([Ub,Ug,Lr])\n",
    "\n",
    "       masks=cv2.inRange(hsv_img,lo,up)\n",
    "       res=cv2.bitwise_and(img,img,mask=masks)\n",
    "       cv2.imshow(\"res\",res)\n",
    "       cv2.imshow(\"mask\",masks)\n",
    "       cv2.imshow(\"hsv\",hsv_img)\n",
    "       cv2.imshow(\"nishint\",img)\n",
    "       if(cv2.waitKey(1) & 0xff==ord(\"p\")):\n",
    "           break\n",
    "    else:\n",
    "        break\n",
    "\n",
    "cap.release()\n",
    "cv2.destroyAllWindows()\n",
    "        \n",
    "    \n",
    "\n",
    "\n"
   ]
  },
  {
   "cell_type": "code",
   "execution_count": 42,
   "id": "1a334bc6-d4d5-4b58-9be0-22fd32543b63",
   "metadata": {},
   "outputs": [],
   "source": [
    "#THRESHOLDING CONCEPT \n",
    "#SIMPLE THRESHOLDING\n",
    "\n",
    "import cv2\n",
    "img=cv2.imread(r\"C:\\Users\\ACER\\Desktop\\OPEN_CV\\coin.jpg\")\n",
    "img=cv2.resize(img,(600,400))\n",
    "\n",
    "_,th=cv2.threshold(img,100,255,cv2.THRESH_BINARY)#_=boolean so just neglact\n",
    "# Define the path to save the thresholded image\n",
    "save_path = r\"C:\\Users\\ACER\\Desktop\\OPEN_CV\\thresholded_image1.tif\"\n",
    "\n",
    "# Save the thresholded image\n",
    "cv2.imwrite(save_path, th)\n",
    "\n",
    "cv2.imshow(\"threshold\",th)\n",
    "cv2.imshow(\"nishint\",img)\n",
    "cv2.waitKey(0)\n",
    "cv2.destroyAllWindows()\n"
   ]
  },
  {
   "cell_type": "code",
   "execution_count": 40,
   "id": "2bef9b9a-6e38-4bc7-9ba4-f68deeb808ba",
   "metadata": {},
   "outputs": [],
   "source": [
    "#THRESHOLDING CONCEPT \n",
    "#SIMPLE THRESHOLDING\n",
    "\n",
    "import cv2\n",
    "img=cv2.imread(r\"C:\\Users\\ACER\\Desktop\\OPEN_CV\\baboon.png\")\n",
    "img=cv2.resize(img,(600,400))\n",
    "\n",
    "_,th=cv2.threshold(img,100,255,cv2.THRESH_BINARY)#_=boolean so just neglact\n",
    "\n",
    "# Define the path to save the thresholded image\n",
    "save_path = r\"C:\\Users\\ACER\\Desktop\\OPEN_CV\\threshlded_image2.tif\"\n",
    "\n",
    "# Save the thresholded image\n",
    "cv2.imwrite(save_path, th)\n",
    "\n",
    "cv2.imshow(\"threshold\",th)\n",
    "cv2.imshow(\"nishint\",img)\n",
    "cv2.waitKey(0)\n",
    "cv2.destroyAllWindows()\n"
   ]
  },
  {
   "cell_type": "code",
   "execution_count": 3,
   "id": "8d264a37-27b0-4a90-b3c3-fddf844bf3cc",
   "metadata": {},
   "outputs": [],
   "source": [
    "#THRESHOLDING CONCEPT \n",
    "#SIMPLE THRESHOLDING 2\n",
    "\n",
    "import cv2\n",
    "img=cv2.imread(r\"C:\\Users\\ACER\\Desktop\\OPEN_CV\\cameraman.tif\")\n",
    "img=cv2.resize(img,(600,400))\n",
    "img=cv2.cvtColor(img,cv2.COLOR_BGR2GRAY)\n",
    "\n",
    "#_,th=cv2.threshold(img,90,255,cv2.THRESH_BINARY)#_=boolean so just neglact # white to black\n",
    "_,th=cv2.threshold(img,90,255,cv2.THRESH_BINARY_INV)#black to white\n",
    "\n",
    "\n",
    "# Define the path to save the thresholded image\n",
    "save_path = r\"C:\\Users\\ACER\\Desktop\\OPEN_CV\\thresholded_image3.tif\"\n",
    "\n",
    "# Save the thresholded image\n",
    "cv2.imwrite(save_path, th)\n",
    "\n",
    "\n",
    "\n",
    "cv2.imshow(\"threshold\",th)\n",
    "cv2.imshow(\"nishint\",img)\n",
    "cv2.waitKey(0)\n",
    "cv2.destroyAllWindows()\n"
   ]
  },
  {
   "cell_type": "code",
   "execution_count": 12,
   "id": "cf2cf9d3-d18c-4ad0-9a0a-724cd2661a28",
   "metadata": {},
   "outputs": [],
   "source": [
    "## 2-JULY-2024\n",
    "\n",
    "import cv2\n",
    "import matplotlib.pyplot as plt\n",
    "img=cv2.imread(r\"C:\\Users\\ACER\\Desktop\\OPEN_CV\\OIP.jpeg\")\n",
    "img=cv2.cvtColor(img,cv2.COLOR_BGR2GRAY)\n",
    "\n",
    "#hist=cv2.calcHist([img],[0],None,[255],[0,255])\n",
    "#plt.plot(hist)\n",
    "#plt.show()\n",
    "\n",
    "_,th=cv2.threshold(img,120,255,cv2.THRESH_BINARY+cv2.THRESH_OTSU)\n",
    "\n",
    "# Define the path to save the thresholded image\n",
    "save_path = r\"C:\\Users\\ACER\\Desktop\\OPEN_CV\\thresholded_image4.tif\"\n",
    "\n",
    "# Save the thresholded image\n",
    "cv2.imwrite(save_path, th)\n",
    "\n",
    "\n",
    "\n",
    "\n",
    "cv2.imshow(\"Nishint\",th)\n",
    "cv2.imshow(\"NISHINT\",img)\n",
    "cv2.waitKey(0)\n",
    "cv2.destroyAllWindows()"
   ]
  },
  {
   "cell_type": "code",
   "execution_count": 26,
   "id": "2f309079-32a1-4373-913c-bb792dc08349",
   "metadata": {},
   "outputs": [],
   "source": [
    "import cv2\n",
    "import matplotlib.pyplot as plt\n",
    "import seaborn as sns\n",
    "import numpy as np\n",
    "\n",
    "blank_white=np.ones((500,500,3),np.uint8)*255\n",
    "\n",
    "blank_black=np.zeros((500,500,3),np.uint8)*255\n",
    "\n",
    "\n",
    "cv2.imshow(\"window_name_ng\",blank_white)\n",
    "cv2.imshow(\"window_name_ng2\",blank_black)\n",
    "cv2.waitKey(0)\n",
    "cv2.destroyAllWindows()\n"
   ]
  },
  {
   "cell_type": "code",
   "execution_count": 27,
   "id": "a6cf853b-68ad-4085-a04c-f02854175844",
   "metadata": {},
   "outputs": [
    {
     "data": {
      "image/png": "[encoded data removed]",
      "text/plain": [
       "<Figure size 640x480 with 1 Axes>"
      ]
     },
     "metadata": {},
     "output_type": "display_data"
    }
   ],
   "source": [
    "hist_white=cv2.calcHist([blank_white],[0],None,[256],[0,256])\n",
    "plt.plot(hist_white)\n",
    "plt.show()"
   ]
  },
  {
   "cell_type": "code",
   "execution_count": 28,
   "id": "08b6efbc-b83b-4ce8-9036-5a2c696858d8",
   "metadata": {},
   "outputs": [
    {
     "data": {
      "image/png": "[encoded data removed]",
      "text/plain": [
       "<Figure size 640x480 with 1 Axes>"
      ]
     },
     "metadata": {},
     "output_type": "display_data"
    }
   ],
   "source": [
    "hist_black=cv2.calcHist([blank_black],[0],None,[256],[0,256])\n",
    "plt.plot(hist_black)\n",
    "plt.show()"
   ]
  },
  {
   "cell_type": "code",
   "execution_count": 9,
   "id": "a7e55e3f-691b-4678-afd2-6f3aab5d3362",
   "metadata": {},
   "outputs": [
    {
     "data": {
      "image/png": "[encoded data removed]",
      "text/plain": [
       "<Figure size 640x480 with 1 Axes>"
      ]
     },
     "metadata": {},
     "output_type": "display_data"
    }
   ],
   "source": [
    "import cv2\n",
    "import matplotlib.pyplot as plt\n",
    "\n",
    "img=cv2.imread(r\"C:\\Users\\ACER\\Desktop\\OPEN_CV\\R.jpeg\")\n",
    "img=cv2.resize(img,(600,400))\n",
    "\n",
    "\n",
    "hist=cv2.calcHist([img],[0],None,[256],[0,256])\n",
    "plt.plot(hist)\n",
    "plt.show()\n",
    "\n",
    "cv2.imshow(\"window_name\",img)\n",
    "cv2.waitKey(0)\n",
    "cv2.destroyAllWindows()\n"
   ]
  },
  {
   "cell_type": "code",
   "execution_count": 10,
   "id": "c2a834e5-96d1-4c8f-a94d-9dbe5f0225a1",
   "metadata": {},
   "outputs": [],
   "source": [
    "#MOUSE EVENT USING OPEN CV\n",
    "\n",
    "import cv2 \n",
    "import numpy as np\n",
    "\n",
    "\n",
    "blank_white=np.ones((600,600,3),np.uint8)*255\n",
    "\n",
    "cv2.imshow(\"window\",blank_white)\n",
    "cv2.waitKey()\n",
    "cv2.destroyAllWindows()\n"
   ]
  },
  {
   "cell_type": "code",
   "execution_count": 23,
   "id": "b09591ce-20c4-40e6-a6f7-bd045b422c51",
   "metadata": {},
   "outputs": [],
   "source": [
    "import cv2 \n",
    "import numpy as np"
   ]
  },
  {
   "cell_type": "code",
   "execution_count": 24,
   "id": "b042e68b-87a7-4684-84ac-8324de44f703",
   "metadata": {},
   "outputs": [],
   "source": [
    "def python_func(event,x,y,flag,p):\n",
    "    if event==cv2.EVENT_LBUTTONDOWN:\n",
    "        cv2.circle(blank_white,(x,y),5,(0,0,255),4)\n",
    "    elif event==cv2.EVENT_RBUTTONDOWN:\n",
    "        cv2.rectangle(blank_white,(x,y),(x+20,y+20),(255,0,0),thickness=4)\n",
    "    \n",
    "        "
   ]
  },
  {
   "cell_type": "code",
   "execution_count": 25,
   "id": "d17ecf27-202c-49bb-9dc2-b8544168051a",
   "metadata": {},
   "outputs": [],
   "source": [
    "cv2.namedWindow(\"window_name\")\n",
    "blank_white=np.ones((600,600,3),np.uint8)*255\n",
    "cv2.setMouseCallback(\"window_name\",python_func)\n",
    "\n",
    "while True:\n",
    "    cv2.imshow(\"window_name\",blank_white)\n",
    "    if cv2.waitKey(25) & 0xff==ord(\"p\"):\n",
    "        break\n",
    "\n",
    "cv2.destroyAllWindows();\n",
    "\n"
   ]
  },
  {
   "cell_type": "code",
   "execution_count": 26,
   "id": "cff49102-a667-4c88-a7b8-03fdee580a7a",
   "metadata": {},
   "outputs": [],
   "source": [
    "##COUNTERS##\n",
    "import cv2;"
   ]
  },
  {
   "cell_type": "code",
   "execution_count": 72,
   "id": "7d18b2d3-9108-4013-be57-046e0805bd30",
   "metadata": {},
   "outputs": [],
   "source": [
    "img=cv2.imread(r\"C:\\Users\\ACER\\Desktop\\OPEN_CV\\chrome.png\")\n",
    "img=cv2.resize(img,(400,300)) \n",
    "img1=cv2.cvtColor(img,cv2.COLOR_BGR2GRAY)\n",
    "\n",
    "booleann,th=cv2.threshold(img1,110,255,cv2.THRESH_BINARY)\n",
    "counter,hex=cv2.findContours(th,cv2.RETR_TREE,cv2.CHAIN_APPROX_SIMPLE)\n",
    "\n",
    "#print(counter)\n",
    "new_img=cv2.drawContours(img,counter,-1,(255,0,0),thickness=2)\n",
    "\n",
    "cv2.imshow('wn2',new_img)\n",
    "#cv2.imshow(\"window_name1\",th)\n",
    "#cv2.imshow(\"window_name2\",img1)\n",
    "cv2.waitKey(0);\n",
    "cv2.destroyAllWindows()"
   ]
  },
  {
   "cell_type": "code",
   "execution_count": 73,
   "id": "d2d3f200-95f5-4af1-b5ef-28681a3b7a04",
   "metadata": {},
   "outputs": [],
   "source": [
    "\n",
    "import cv2"
   ]
  },
  {
   "cell_type": "code",
   "execution_count": 129,
   "id": "10a24bb7-b966-487d-8c9d-2f4b1d1e2623",
   "metadata": {},
   "outputs": [
    {
     "name": "stdout",
     "output_type": "stream",
     "text": [
      "[167442.0, 4.0, 2.0, 2.0, 2.0, 2.0, 2.0, 2.0, 2.0, 2.0, 2.0, 2.0, 2.0, 2.0, 2.0, 2.0, 2.0, 2.0, 2.0, 2.0, 2.0, 2.0, 2.0, 2.0, 2.0, 2.0, 2.0, 2.0, 2.0, 2.0, 2.0, 2.0, 2.0, 2.0, 4.0, 2.0, 2.0, 2.0, 37.0, 72.0, 7.0, 48.0, 10.0, 43.0, 53.5, 9.5, 30.0, 43.5, 49.0, 8.5, 70.0, 9.0, 42.5, 34.5, 47.5, 47.5, 49.5, 7.5, 73.5, 9.0, 55.5, 10.5, 42.0, 50.0, 7.0, 43.5, 20.5, 23.0, 49.0, 7.0, 70.5, 7.0, 46.5, 60.0, 8.5, 43.5, 34.0, 33.5, 67.0, 11.5, 46.0, 5713.0, 5048.5, 6247.0, 5487.0, 5975.0, 5237.0, 5461.0, 4752.0, 2.0, 2.0, 2.0, 2.0, 2.0, 2.0, 2.0, 2.0, 2.0, 2.0, 2.0, 2.0, 2.0, 2.0, 2.0, 2.0, 2.0, 4.0, 2.0, 2.0, 2.0, 2.0, 2.0, 4.0, 4.0, 2.0, 2.0, 19.0, 19.0, 46.5, 0.5, 38.5, 45.0, 54.5, 7.0, 28.5, 41.0, 50.0, 7.0, 70.5, 9.0, 46.0, 40.5, 48.0, 63.0, 7.0, 27.5, 20.5, 27.5, 55.0, 7.5, 31.0, 48.5, 54.0, 7.5, 27.5, 57.0, 11.5, 43.0, 61.5, 9.5, 4.0, 50.5, 8.5, 56.5, 35.0, 29.0, 43.5, 54.5, 9.5, 43.5, 18.5, 29.0, 2.0, 24.0, 34.5, 69.5, 10.0, 45.5, 3305.5, 2703.5, 3762.5, 3245.0, 2658.0, 3662.0, 2929.0, 100.0, 5.0, 118.0, 26.5, 104.0, 24.5, 99.0, 5.0, 112.5, 24.0, 85.0, 129.0, 23.5, 85.5, 134.0, 116.0, 205.0, 69.0, 102.5, 149.0, 100.0, 82.0]\n"
     ]
    }
   ],
   "source": [
    "img=cv2.imread(r\"C:\\Users\\ACER\\Desktop\\OPEN_CV\\contour.jpeg\")\n",
    "gry=cv2.cvtColor(img,cv2.COLOR_BGR2GRAY)\n",
    "bool,th=cv2.threshold(gry,110,255,cv2.THRESH_BINARY)\n",
    "\n",
    "contor,hex=cv2.findContours(th,cv2.RETR_TREE,cv2.CHAIN_APPROX_SIMPLE)\n",
    "\n",
    "ar=[]\n",
    "for c in contor:\n",
    "    m=cv2.moments(c)\n",
    "    x=int(m[\"m10\"]/m[\"m00\"])\n",
    "    y=int(m[\"m01\"]/m[\"m00\"])\n",
    "    cv2.drawContours(img,contor,-1,(0,0,255),thickness=2)\n",
    "    cv2.circle(img,(x,y),5,(255,0,0),-1)\n",
    "    a=cv2.contourArea(c)\n",
    "    ar.append(a)\n",
    "    ep=0.1*cv2.arcLength(c,True)\n",
    "    d=cv2.approxPolyDP(c,ep,True)\n",
    "    h=cv2.convexHull(d)\n",
    "    x,y,w,h=cv2.boundingRect(h)\n",
    "    cv2.rectangle(img,(x,y),(x+w,y+h),(0,255,0))\n",
    "    \n",
    "\n",
    "\n",
    "cv2.imshow(\"ng2\",th)\n",
    "cv2.imshow(\"ng3\",img)\n",
    "print(ar)\n",
    "cv2.waitKey()\n",
    "cv2.destroyAllWindows()"
   ]
  },
  {
   "cell_type": "code",
   "execution_count": null,
   "id": "375b87bf-1fa7-43f9-a2c2-bb6ecaf054b8",
   "metadata": {},
   "outputs": [],
   "source": []
  }
 ],
 "metadata": {
  "kernelspec": {
   "display_name": "Python 3 (ipykernel)",
   "language": "python",
   "name": "python3"
  },
  "language_info": {
   "codemirror_mode": {
    "name": "ipython",
    "version": 3
   },
   "file_extension": ".py",
   "mimetype": "text/x-python",
   "name": "python",
   "nbconvert_exporter": "python",
   "pygments_lexer": "ipython3",
   "version": "3.11.7"
  },
  "widgets": {
   "application/vnd.jupyter.widget-state+json": {
    "state": {},
    "version_major": 2,
    "version_minor": 0
   }
  }
 },
 "nbformat": 4,
 "nbformat_minor": 5
}
