{
 "cells": [
  {
   "cell_type": "code",
   "execution_count": 2,
   "id": "cb02a6eb-2553-412f-9396-0126c31ac5ff",
   "metadata": {},
   "outputs": [],
   "source": [
    "import cv2\n",
    "import numpy as np"
   ]
  },
  {
   "cell_type": "code",
   "execution_count": 3,
   "id": "9e75c7cc-a04f-47ac-ad3e-7b4a0a9b7305",
   "metadata": {},
   "outputs": [],
   "source": [
    "def python_nothing_func(x):\n",
    "    pass\n"
   ]
  },
  {
   "cell_type": "code",
   "execution_count": 12,
   "id": "07f92000-0c64-4b1d-8401-b6e691a15929",
   "metadata": {},
   "outputs": [],
   "source": [
    "cv2.namedWindow(\"window_name\")\n",
    "cv2.resizeWindow(\"window_name\",600,300)\n",
    "cv2.createTrackbar(\"th\",\"window_name\",0,255,python_nothing_func)\n",
    "\n",
    "cv2.createTrackbar(\"lb\",\"window_name\",0,255,python_nothing_func)\n",
    "cv2.createTrackbar(\"lg\",\"window_name\",0,255,python_nothing_func)\n",
    "cv2.createTrackbar(\"lr\",\"window_name\",0,255,python_nothing_func)\n",
    "\n",
    "cv2.createTrackbar(\"hb\",\"window_name\",255,255,python_nothing_func)\n",
    "cv2.createTrackbar(\"hg\",\"window_name\",255,255,python_nothing_func)\n",
    "cv2.createTrackbar(\"hr\",\"window_name\",255,255,python_nothing_func)\n",
    "\n",
    "cap=cv2.VideoCapture(0)\n",
    "while cap.isOpened():\n",
    "    r,frame=cap.read()\n",
    "    if r==True:\n",
    "\n",
    "\n",
    "        frame=cv2.flip(frame,1)\n",
    "        frame=cv2.resize(frame,(400,400))\n",
    "        hsv=cv2.cvtColor(frame,cv2.COLOR_BGR2HSV)\n",
    "\n",
    "\n",
    "        thr=cv2.getTrackbarPos(\"th\",\"window_name\")\n",
    "\n",
    "        lb=cv2.getTrackbarPos(\"lb\",\"window_name\")\n",
    "        lg=cv2.getTrackbarPos(\"lg\",\"window_name\")\n",
    "        lr=cv2.getTrackbarPos(\"lr\",\"window_name\")\n",
    "\n",
    "        hb=cv2.getTrackbarPos(\"hb\",\"window_name\")\n",
    "        hg=cv2.getTrackbarPos(\"hg\",\"window_name\")\n",
    "        hr=cv2.getTrackbarPos(\"hr\",\"window_name\")\n",
    "\n",
    "\n",
    "        lower_limit=np.array([lb,lg,lr])\n",
    "        upper_limit=np.array([hb,hg,hr])\n",
    "        m=cv2.inRange(hsv,lower_limit,upper_limit)\n",
    "\n",
    "        res=cv2.bitwise_and(frame,frame,mask=m)\n",
    "        res2=cv2.bitwise_not(res)\n",
    "\n",
    "\n",
    "        _,th_img=cv2.threshold(m,thr,255,cv2.THRESH_BINARY)\n",
    "        contor,hr=cv2.findContours(th_img,cv2.RETR_TREE,cv2.CHAIN_APPROX_SIMPLE)\n",
    "\n",
    "        cv2.drawContours(frame,contor,-1,(255,0,0),2)# blue color\n",
    "\n",
    "\n",
    "        cv2.imshow(\"thr\",th_img)\n",
    "        cv2.imshow(\"res\",res)\n",
    "        cv2.imshow(\"mask\",m)\n",
    "        cv2.imshow(\"ng\",frame)\n",
    "        if cv2.waitKey(25) & 0xff==ord(\"p\"):\n",
    "            break\n",
    "    else:\n",
    "        break\n",
    "\n",
    "\n",
    "\n",
    "p\n",
    "cap.release()\n",
    "cv2.destroyAllWindows()"
   ]
  },
  {
   "cell_type": "code",
   "execution_count": null,
   "id": "6d76447d-6947-4167-9dba-ee19b51afd7c",
   "metadata": {},
   "outputs": [],
   "source": []
  }
 ],
 "metadata": {
  "kernelspec": {
   "display_name": "Python 3 (ipykernel)",
   "language": "python",
   "name": "python3"
  },
  "language_info": {
   "codemirror_mode": {
    "name": "ipython",
    "version": 3
   },
   "file_extension": ".py",
   "mimetype": "text/x-python",
   "name": "python",
   "nbconvert_exporter": "python",
   "pygments_lexer": "ipython3",
   "version": "3.11.7"
  },
  "widgets": {
   "application/vnd.jupyter.widget-state+json": {
    "state": {},
    "version_major": 2,
    "version_minor": 0
   }
  }
 },
 "nbformat": 4,
 "nbformat_minor": 5
}
