{
 "cells": [
  {
   "cell_type": "code",
   "execution_count": 5,
   "id": "cb02a6eb-2553-412f-9396-0126c31ac5ff",
   "metadata": {},
   "outputs": [],
   "source": [
    "import cv2\n",
    "import numpy as np"
   ]
  },
  {
   "cell_type": "code",
   "execution_count": 6,
   "id": "9e75c7cc-a04f-47ac-ad3e-7b4a0a9b7305",
   "metadata": {},
   "outputs": [],
   "source": [
    "def python_nothing_func(x):\n",
    "    pass\n"
   ]
  },
  {
   "cell_type": "code",
   "execution_count": 7,
   "id": "07f92000-0c64-4b1d-8401-b6e691a15929",
   "metadata": {},
   "outputs": [],
   "source": [
    "cv2.namedWindow(\"window_name\")\n",
    "cv2.resizeWindow(\"window_name\",600,300)\n",
    "cv2.createTrackbar(\"th\",\"window_name\",0,255,python_nothing_func)\n",
    "\n",
    "cv2.createTrackbar(\"lb\",\"window_name\",0,255,python_nothing_func)\n",
    "cv2.createTrackbar(\"lg\",\"window_name\",0,255,python_nothing_func)\n",
    "cv2.createTrackbar(\"lr\",\"window_name\",0,255,python_nothing_func)\n",
    "\n",
    "cv2.createTrackbar(\"hb\",\"window_name\",255,255,python_nothing_func)\n",
    "cv2.createTrackbar(\"hg\",\"window_name\",255,255,python_nothing_func)\n",
    "cv2.createTrackbar(\"hr\",\"window_name\",255,255,python_nothing_func)\n",
    "\n",
    "cap=cv2.VideoCapture(0)\n",
    "while cap.isOpened():\n",
    "    r,frame=cap.read()\n",
    "    if r==True:\n",
    "\n",
    "\n",
    "        frame=cv2.flip(frame,1)\n",
    "        frame=cv2.resize(frame,(400,400))\n",
    "        hsv=cv2.cvtColor(frame,cv2.COLOR_BGR2HSV)\n",
    "\n",
    "\n",
    "        thr=cv2.getTrackbarPos(\"th\",\"window_name\")\n",
    "\n",
    "        lb=cv2.getTrackbarPos(\"lb\",\"window_name\")\n",
    "        lg=cv2.getTrackbarPos(\"lg\",\"window_name\")\n",
    "        lr=cv2.getTrackbarPos(\"lr\",\"window_name\")\n",
    "\n",
    "        hb=cv2.getTrackbarPos(\"hb\",\"window_name\")\n",
    "        hg=cv2.getTrackbarPos(\"hg\",\"window_name\")\n",
    "        hr=cv2.getTrackbarPos(\"hr\",\"window_name\")\n",
    "\n",
    "\n",
    "        lower_limit=np.array([lb,lg,lr])\n",
    "        upper_limit=np.array([hb,hg,hr])\n",
    "        m=cv2.inRange(hsv,lower_limit,upper_limit)\n",
    "\n",
    "        res=cv2.bitwise_and(frame,frame,mask=m)\n",
    "        res2=cv2.bitwise_not(res)\n",
    "\n",
    "\n",
    "        _,th_img=cv2.threshold(m,thr,255,cv2.THRESH_BINARY)\n",
    "        contor,hr=cv2.findContours(th_img,cv2.RETR_TREE,cv2.CHAIN_APPROX_SIMPLE)\n",
    "\n",
    "        cv2.drawContours(frame,contor,-1,(255,0,0),2)# blue color\n",
    "\n",
    "\n",
    "        cv2.imshow(\"thr\",th_img)\n",
    "        cv2.imshow(\"res\",res)\n",
    "        cv2.imshow(\"mask\",m)\n",
    "        cv2.imshow(\"ng\",frame)\n",
    "        if cv2.waitKey(25) & 0xff==ord(\"p\"):\n",
    "            break\n",
    "    else:\n",
    "        break\n",
    "\n",
    "\n",
    "\n",
    "\n",
    "cap.release()\n",
    "cv2.destroyAllWindows()"
   ]
  },
  {
   "cell_type": "code",
   "execution_count": 1,
   "id": "6d76447d-6947-4167-9dba-ee19b51afd7c",
   "metadata": {},
   "outputs": [],
   "source": [
    "##7 JULY 2024 ==SUNDAY\n",
    "\n",
    "import cv2"
   ]
  },
  {
   "cell_type": "code",
   "execution_count": 17,
   "id": "d17863fd-a871-434b-8096-fbb7507696ed",
   "metadata": {},
   "outputs": [],
   "source": [
    "img=cv2.imread(r\"C:\\Users\\ACER\\Desktop\\OPEN_CV\\maxresdefault.jpg\")\n",
    "img=cv2.resize(img,(600,500))\n",
    "hsv=cv2.cvtColor(img,cv2.COLOR_BGR2HSV)\n",
    "\n",
    "img2=cv2.imread(R\"C:\\Users\\ACER\\Desktop\\OPEN_CV\\Screenshot 2024-07-07 133448.png\")\n",
    "hsv2=cv2.cvtColor(img2,cv2.COLOR_BGR2HSV)\n",
    "\n",
    "\n",
    "hist=cv2.calcHist([hsv2],[0,1],None,[180,256],[0,180,0,256])\n",
    "mask=cv2.calcBackProject([hsv],[0,1],hist,[0,180,0,256],1)\n",
    "\n",
    "kernel=cv2.getStructuringElement(cv2.MORPH_ELLIPSE,(5,5))\n",
    "mask=cv2.filter2D(mask,-1,kernel)\n",
    "\n",
    "_,thr=cv2.threshold(mask,250,255,cv2.THRESH_BINARY)\n",
    "mask=cv2.merge((mask,mask,mask))\n",
    "\n",
    "result=cv2.bitwise_or(img,mask)\n",
    "\n",
    "\n",
    "\n",
    "\n",
    "\n",
    "cv2.imshow(\"result\",result)\n",
    "cv2.imshow(\"thor_org\",img)\n",
    "cv2.waitKey(0)\n",
    "cv2.destroyAllWindows()"
   ]
  },
  {
   "cell_type": "code",
   "execution_count": 18,
   "id": "990e808a-846e-415b-8807-a892e0bd4181",
   "metadata": {},
   "outputs": [],
   "source": [
    "#SEARCH THAT IMAGE IS PRESENT IN ANOTHER IMAGE OR NOT\n",
    "import cv2"
   ]
  },
  {
   "cell_type": "code",
   "execution_count": 89,
   "id": "94d34387-701b-4a65-a164-2e8d980451ba",
   "metadata": {},
   "outputs": [],
   "source": [
    "img1=cv2.imread(r\"C:\\Users\\ACER\\Desktop\\OPEN_CV\\WORLD_CUP_2011.jpg\")\n",
    "img1=cv2.resize(img1,(600,500))\n",
    "gry1=cv2.cvtColor(img1,cv2.COLOR_BGR2GRAY)\n",
    "\n",
    "\n",
    "test_img=cv2.imread(r\"C:\\Users\\ACER\\Desktop\\OPEN_CV\\Screenshot 2024-07-07 140011.png\")\n",
    "test_img2=cv2.cvtColor(test_img,cv2.COLOR_BGR2GRAY)\n",
    "\n",
    "width,height=test_img2.shape[::-1]\n",
    "\n",
    "result=cv2.matchTemplate(gry1,test_img2,cv2.TM_CCORR_NORMED)\n",
    "\n",
    "\n",
    "\n",
    "import numpy as np\n",
    "thr=0.89\n",
    "l=np.where(result>=thr)\n",
    "\n",
    "\n",
    "for i in zip(*l[::-1]):\n",
    "    cv2.rectangle(img1,i,(i[0]+width,i[1]+height),(0,255,0),2)\n",
    "\n",
    "\n",
    "cv2.imshow(\"2011_world_cup_window_name\",img1)\n",
    "cv2.imshow(\"suresh_raina\",test_img)\n",
    "cv2.waitKey(0)\n",
    "cv2.destroyAllWindows()"
   ]
  },
  {
   "cell_type": "code",
   "execution_count": 49,
   "id": "3be71a43-c8a8-4e64-8498-d127b05ae165",
   "metadata": {},
   "outputs": [
    {
     "name": "stdout",
     "output_type": "stream",
     "text": [
      "(array([  0,   0,   0, ..., 198, 198, 198], dtype=int64), array([ 95,  96,  97, ..., 323, 324, 325], dtype=int64))\n"
     ]
    }
   ],
   "source": []
  },
  {
   "cell_type": "code",
   "execution_count": 2,
   "id": "2ba3ed50-884b-406b-8715-9a9cc15e8d8e",
   "metadata": {},
   "outputs": [],
   "source": [
    "#8 JULY 20224 ==MONDAY\n",
    "#ALGORITHM FOR BACKGROUND CHANGE\n",
    "#1 ALGO ==GRABCUT ALGO "
   ]
  },
  {
   "cell_type": "code",
   "execution_count": 19,
   "id": "25ace1db-1814-4d89-a341-ee860d459b5f",
   "metadata": {},
   "outputs": [],
   "source": [
    "import cv2\n",
    "import numpy as np\n"
   ]
  },
  {
   "cell_type": "code",
   "execution_count": 32,
   "id": "98c42d70-5254-4ecb-b629-25ffe70adbab",
   "metadata": {},
   "outputs": [],
   "source": [
    "img=cv2.imread(r\"C:\\Users\\ACER\\Desktop\\OPEN_CV\\HD-wallpaper-audi-s5-blue-car-thumbnail.jpg\")\n",
    "\n",
    "mask=np.zeros(img.shape[:2],np.uint8)\n",
    "\n",
    "bgmask=np.zeros((1,65),np.float64)*255\n",
    "fgmask=np.zeros((1,65),np.float64)*255\n",
    "\n",
    "#grabCut(img, mask, rect, bgdModel, fgdModel, iterCount[, mode]) -> mask, bgdModel, fgdModel\n",
    "r=[64,138,290,280] #x1,y1,x2,y2 means ak rectangle bana rhe hai image jo chaiye uspr..\n",
    "cv2.grabCut(img,mask,r,bgmask,fgmask,10,cv2.GC_INIT_WITH_RECT)\n",
    "\n",
    "mask2=np.where((mask==2) | (mask==0),0,1).astype(\"uint8\")\n",
    "\n",
    "img=img*mask2[:,:,np.newaxis]\n",
    "\n",
    "cv2.imshow(\"window_name\",img)\n",
    "cv2.waitKey(0)\n",
    "cv2.destroyAllWindows()"
   ]
  },
  {
   "cell_type": "code",
   "execution_count": 44,
   "id": "d7477552-6b17-4fda-a86d-330ddf725041",
   "metadata": {},
   "outputs": [],
   "source": [
    "cap=cv2.VideoCapture(0)\n",
    "\n",
    "algo1=cv2.createBackgroundSubtractorKNN()\n",
    "algo2=cv2.createBackgroundSubtractorMOG2()\n",
    "\n",
    "while True:\n",
    "\n",
    "    r,frame=cap.read()\n",
    "    frame=cv2.resize(frame,(400,400))\n",
    "    frame=cv2.flip(frame,1)\n",
    "    a1=algo1.apply(frame)\n",
    "    a2=algo2.apply(frame)\n",
    "    cv2.imshow(\"algo1\",a1)\n",
    "    cv2.imshow(\"algo2\",a2)\n",
    "    cv2.imshow(\"mine_video\",frame)\n",
    "\n",
    "    if cv2.waitKey(25) & 0xFF == ord('p'):\n",
    "        break\n",
    "\n",
    "\n",
    "cap.release()\n",
    "cv2.destroyAllWindows()"
   ]
  },
  {
   "cell_type": "code",
   "execution_count": 1,
   "id": "7dd50777-eb6c-48aa-9f1d-d4336213a67c",
   "metadata": {},
   "outputs": [],
   "source": [
    "## OBJECT TRACKING AND DETECTION USING OPEN-CV\n",
    "\n",
    "import cv2\n",
    "import numpy as np\n",
    "\n"
   ]
  },
  {
   "cell_type": "code",
   "execution_count": 2,
   "id": "9188b163-ad9d-4446-b431-88b7e94ac3f0",
   "metadata": {},
   "outputs": [],
   "source": [
    "cap=cv2.VideoCapture(r\"C:\\Users\\ACER\\Desktop\\OPEN_CV\\mixkit-man-from-behind-running-in-a-sports-center-32804-hd-ready.mp4\")\n",
    "r,f=cap.read()\n",
    "x,y,w,h=310,80,611,611  #screenshot leke paint me  find karna hai\n",
    "\n",
    "t=(x,y,w,h)\n",
    "roi=f[y:y+h,x:x+w]\n",
    "hsv_roi=cv2.cvtColor(roi,cv2.COLOR_BGR2HSV)\n",
    "\n",
    "#inRange(src, lowerb, upperb[, dst]) -> dst\n",
    "mask=cv2.inRange(hsv_roi,np.array((0.,60.,32.)),np.array((180.,255.,255.)))\n",
    "#calcHist(images, channels, mask, histSize, ranges[, hist[, accumulate]]) -> hist\n",
    "roi_hist=cv2.calcHist([hsv_roi],[0],mask,[180],[0,180])\n",
    "#normalize(src, dst[, alpha[, beta[, norm_type[, dtype[, mask]]]]]) -> dst\n",
    "cv2.normalize(roi_hist,roi_hist,0,255,cv2.NORM_MINMAX)\n",
    "\n",
    "termination=(cv2.TERM_CRITERIA_EPS | cv2.TERM_CRITERIA_COUNT ,10,1)\n",
    "\n",
    "\n",
    "while cap.isOpened():\n",
    "    r,frame=cap.read()\n",
    "    \n",
    "    if r==True:\n",
    "        hsv_f=cv2.cvtColor(frame,cv2.COLOR_BGR2HSV)\n",
    "        #calcBackProject(images, channels, hist, ranges, scale[, dst]) -> dst\n",
    "        d=cv2.calcBackProject([hsv_f],[0],roi_hist,[0,180],1)\n",
    "        #meanShift(probImage, window, criteria) -> retval, window\n",
    "        r,tp=cv2.meanShift(d,t,termination)\n",
    "        #new height ,width\n",
    "        x,y,w,h=tp\n",
    "\n",
    "        final_img=cv2.rectangle(frame,(x,y),(x+w,y+h),(0,0,255),4)\n",
    "        cv2.imshow(\"nishint\",final_img)\n",
    "        if cv2.waitKey(25) & 0xFF == ord('p'):\n",
    "             break\n",
    "        \n",
    "    else:\n",
    "        break\n",
    "\n",
    "\n",
    "cap.release()\n",
    "cv2.destroyAllWindows()"
   ]
  },
  {
   "cell_type": "code",
   "execution_count": 16,
   "id": "d4b9607c-6652-4d47-9f6e-73088fb5f523",
   "metadata": {},
   "outputs": [],
   "source": [
    "#using camshift instead of meanshift\n",
    "cap=cv2.VideoCapture(r\"C:\\Users\\ACER\\Desktop\\OPEN_CV\\mixkit-man-from-behind-running-in-a-sports-center-32804-hd-ready.mp4\")\n",
    "r,f=cap.read()\n",
    "x,y,w,h=310,80,611,611  #screenshot leke paint me  find karna hai\n",
    "\n",
    "t=(x,y,w,h)\n",
    "roi=f[y:y+h,x:x+w]\n",
    "hsv_roi=cv2.cvtColor(roi,cv2.COLOR_BGR2HSV)\n",
    "\n",
    "#inRange(src, lowerb, upperb[, dst]) -> dst\n",
    "mask=cv2.inRange(hsv_roi,np.array((0.,60.,32.)),np.array((180.,255.,255.)))\n",
    "#calcHist(images, channels, mask, histSize, ranges[, hist[, accumulate]]) -> hist\n",
    "roi_hist=cv2.calcHist([hsv_roi],[0],mask,[180],[0,180])\n",
    "#normalize(src, dst[, alpha[, beta[, norm_type[, dtype[, mask]]]]]) -> dst\n",
    "cv2.normalize(roi_hist,roi_hist,0,255,cv2.NORM_MINMAX)\n",
    "\n",
    "termination=(cv2.TERM_CRITERIA_EPS | cv2.TERM_CRITERIA_COUNT ,10,1)\n",
    "\n",
    "\n",
    "while cap.isOpened():\n",
    "    r,frame=cap.read()\n",
    "    \n",
    "    if r==True:\n",
    "        hsv_f=cv2.cvtColor(frame,cv2.COLOR_BGR2HSV)\n",
    "        #calcBackProject(images, channels, hist, ranges, scale[, dst]) -> dst\n",
    "        d=cv2.calcBackProject([hsv_f],[0],roi_hist,[0,180],1)\n",
    "        #meanShift(probImage, window, criteria) -> retval, window\n",
    "        r,tp=cv2.CamShift(d,t,termination)\n",
    "        #new height ,width\n",
    "        x,y,w,h=tp\n",
    "\n",
    "        final_img=cv2.rectangle(frame,(x,y),(x+w,y+h),(0,0,255),4)\n",
    "        cv2.imshow(\"nishint\",final_img)\n",
    "        if cv2.waitKey(25) & 0xFF == ord('p'):\n",
    "             break\n",
    "        \n",
    "    else:\n",
    "        break\n",
    "\n",
    "\n",
    "cap.release()\n",
    "cv2.destroyAllWindows()"
   ]
  },
  {
   "cell_type": "code",
   "execution_count": 5,
   "id": "b57fe36e-045b-4be4-82ce-7136e093ec53",
   "metadata": {},
   "outputs": [
    {
     "data": {
      "text/plain": [
       "611"
      ]
     },
     "execution_count": 5,
     "metadata": {},
     "output_type": "execute_result"
    }
   ],
   "source": [
    "w\n"
   ]
  },
  {
   "cell_type": "code",
   "execution_count": 6,
   "id": "84ad58bb-2130-4286-841e-b2e7a632c5ce",
   "metadata": {},
   "outputs": [
    {
     "data": {
      "text/plain": [
       "611"
      ]
     },
     "execution_count": 6,
     "metadata": {},
     "output_type": "execute_result"
    }
   ],
   "source": [
    "h"
   ]
  },
  {
   "cell_type": "code",
   "execution_count": null,
   "id": "ab4a682f-9850-4c60-8277-53a4629c8b75",
   "metadata": {},
   "outputs": [],
   "source": []
  }
 ],
 "metadata": {
  "kernelspec": {
   "display_name": "Python 3 (ipykernel)",
   "language": "python",
   "name": "python3"
  },
  "language_info": {
   "codemirror_mode": {
    "name": "ipython",
    "version": 3
   },
   "file_extension": ".py",
   "mimetype": "text/x-python",
   "name": "python",
   "nbconvert_exporter": "python",
   "pygments_lexer": "ipython3",
   "version": "3.11.7"
  },
  "widgets": {
   "application/vnd.jupyter.widget-state+json": {
    "state": {},
    "version_major": 2,
    "version_minor": 0
   }
  }
 },
 "nbformat": 4,
 "nbformat_minor": 5
}
